{
  "nbformat": 4,
  "nbformat_minor": 0,
  "metadata": {
    "colab": {
      "name": "Assignment2_model.ipynb",
      "provenance": [],
      "collapsed_sections": [],
      "machine_shape": "hm"
    },
    "kernelspec": {
      "name": "python3",
      "display_name": "Python 3"
    },
    "language_info": {
      "name": "python"
    },
    "accelerator": "GPU"
  },
  "cells": [
    {
      "cell_type": "code",
      "execution_count": null,
      "metadata": {
        "colab": {
          "base_uri": "https://localhost:8080/"
        },
        "id": "y20f7bXjdfbp",
        "outputId": "bdd13cdc-6e9b-4a0f-ef7b-517f0d7a4436"
      },
      "outputs": [
        {
          "output_type": "stream",
          "name": "stdout",
          "text": [
            "Drive already mounted at /content/gdrive; to attempt to forcibly remount, call drive.mount(\"/content/gdrive\", force_remount=True).\n"
          ]
        }
      ],
      "source": [
        "from google.colab import drive\n",
        "drive.mount('/content/gdrive')"
      ]
    },
    {
      "cell_type": "markdown",
      "source": [
        ""
      ],
      "metadata": {
        "id": "BY8yqlj8dkCx"
      }
    },
    {
      "cell_type": "code",
      "source": [
        "import numpy as np\n",
        "import csv\n",
        "import pandas as pd\n",
        "from keras import backend as K\n",
        "import keras\n",
        "from keras.models import Sequential, Model,load_model\n",
        "from keras.callbacks import EarlyStopping,ModelCheckpoint\n",
        "from google.colab.patches import cv2_imshow\n",
        "from keras.layers import Input, Add, Dense, Activation, ZeroPadding2D, BatchNormalization, Flatten, Conv2D, AveragePooling2D, MaxPooling2D, GlobalMaxPooling2D,MaxPool2D,Dropout\n",
        "from keras.preprocessing import image\n",
        "from sklearn.model_selection import train_test_split\n",
        "import tensorflow as tf\n",
        "from tensorflow.keras import models, layers\n",
        "import matplotlib.pyplot as plt\n",
        "import os"
      ],
      "metadata": {
        "id": "qI56eLYHdmPi"
      },
      "execution_count": null,
      "outputs": []
    },
    {
      "cell_type": "markdown",
      "source": [
        "Showing if there are GPU device available"
      ],
      "metadata": {
        "id": "O4q_jR4-cOtX"
      }
    },
    {
      "cell_type": "code",
      "source": [
        "%tensorflow_version 2.x\n",
        "\n",
        "device_name = tf.test.gpu_device_name()\n",
        "if device_name != '/device:GPU:0':\n",
        "  raise SystemError('GPU device not found')\n",
        "print('Found GPU at: {}'.format(device_name))"
      ],
      "metadata": {
        "colab": {
          "base_uri": "https://localhost:8080/"
        },
        "id": "q8oM9oUDdoDd",
        "outputId": "d83bd599-4054-4167-9989-f49559097ce6"
      },
      "execution_count": null,
      "outputs": [
        {
          "output_type": "stream",
          "name": "stdout",
          "text": [
            "Found GPU at: /device:GPU:0\n"
          ]
        }
      ]
    },
    {
      "cell_type": "markdown",
      "source": [
        "display if the file is correctly placed in datasets folder in your mounted google drive"
      ],
      "metadata": {
        "id": "HDusvQSYcUuU"
      }
    },
    {
      "cell_type": "code",
      "source": [
        "file_path=\"/content/gdrive/My Drive/datasets\"\n",
        "file_names=os.listdir(file_path)\n",
        "print(file_names)\n"
      ],
      "metadata": {
        "colab": {
          "base_uri": "https://localhost:8080/"
        },
        "id": "r_6M5gphdpe6",
        "outputId": "035fe868-4750-4aba-a351-7ee39aff45d5"
      },
      "execution_count": null,
      "outputs": [
        {
          "output_type": "stream",
          "name": "stdout",
          "text": [
            "['emnist-byclass-test.csv', 'emnist-byclass-train.csv']\n"
          ]
        }
      ]
    },
    {
      "cell_type": "markdown",
      "source": [
        "Loading the data first time for the balanced dataset approach"
      ],
      "metadata": {
        "id": "8nRIkwGgcdR0"
      }
    },
    {
      "cell_type": "code",
      "source": [
        "train_pd = pd.read_csv('/content/gdrive/My Drive/datasets/emnist-byclass-train.csv',delimiter=\",\", nrows=90000,header=None)\n",
        "test_pd = pd.read_csv('/content/gdrive/My Drive/datasets/emnist-byclass-test.csv',delimiter=\",\", nrows=70000,header=None)"
      ],
      "metadata": {
        "id": "k7q9QAO7dreC"
      },
      "execution_count": null,
      "outputs": []
    },
    {
      "cell_type": "markdown",
      "source": [
        "The train dataset distribution overdifferent classes"
      ],
      "metadata": {
        "id": "C9qsDlsYckb7"
      }
    },
    {
      "cell_type": "code",
      "source": [
        "train_pd.iloc[:,0].value_counts().plot(kind='barh',figsize=(10,10))"
      ],
      "metadata": {
        "colab": {
          "base_uri": "https://localhost:8080/",
          "height": 609
        },
        "id": "fQBRVrJdg4Xo",
        "outputId": "e6b7e219-5fea-499a-e4fd-64c3fa28ea5f"
      },
      "execution_count": null,
      "outputs": [
        {
          "output_type": "execute_result",
          "data": {
            "text/plain": [
              "<matplotlib.axes._subplots.AxesSubplot at 0x7f61a7e01b50>"
            ]
          },
          "metadata": {},
          "execution_count": 5
        },
        {
          "output_type": "display_data",
          "data": {
            "text/plain": [
              "<Figure size 720x720 with 1 Axes>"
            ],
            "image/png": "[encoded data removed]"
          },
          "metadata": {
            "needs_background": "light"
          }
        }
      ]
    },
    {
      "cell_type": "markdown",
      "source": [
        "Choose the features and the label"
      ],
      "metadata": {
        "id": "RekuwCvJcq58"
      }
    },
    {
      "cell_type": "code",
      "source": [
        "data_train_feature = train_pd.loc[:, \"1\":\"784\"].to_numpy()\n",
        "# Selecting output lable \n",
        "data_train_label = train_pd.iloc[:, 0].to_numpy()\n",
        "\n",
        "data_test_feature = test_pd.loc[:, \"1\":\"784\"].to_numpy()\n",
        "# Selecting output lable \n",
        "data_test_label = test_pd.iloc[:, 0].to_numpy()"
      ],
      "metadata": {
        "id": "O18xARhMds9E"
      },
      "execution_count": null,
      "outputs": []
    },
    {
      "cell_type": "markdown",
      "source": [
        "Oversampling technique to balance the dataset"
      ],
      "metadata": {
        "id": "BDNqKgWgcud8"
      }
    },
    {
      "cell_type": "code",
      "source": [
        "from imblearn.over_sampling import SMOTE\n",
        "over_samples = SMOTE(random_state = 1234)\n",
        "data_train_f_balance, data_train_l_balance= over_samples.fit_resample(data_train_feature,data_train_label)"
      ],
      "metadata": {
        "id": "oiJF1r3em_SV"
      },
      "execution_count": null,
      "outputs": []
    },
    {
      "cell_type": "markdown",
      "source": [
        "Reshape the data to a 28*28 image like ndarray"
      ],
      "metadata": {
        "id": "nFQnM1YPc04Z"
      }
    },
    {
      "cell_type": "code",
      "source": [
        "data_train_f_balance = data_train_f_balance.reshape((data_train_f_balance.shape[0], 28, 28))\n",
        "data_test_feature = data_test_feature.reshape((data_test_feature.shape[0], 28, 28))\n"
      ],
      "metadata": {
        "id": "pKIb1FjlmrlX"
      },
      "execution_count": null,
      "outputs": []
    },
    {
      "cell_type": "code",
      "source": [
        "print(data_train_f_balance.shape,\n",
        "data_train_l_balance.shape)"
      ],
      "metadata": {
        "id": "UiY9fQiBjb4N",
        "colab": {
          "base_uri": "https://localhost:8080/"
        },
        "outputId": "799db8b9-cc5a-4c71-dc2c-d69fd7e74728"
      },
      "execution_count": null,
      "outputs": [
        {
          "output_type": "stream",
          "name": "stdout",
          "text": [
            "(308016, 28, 28) (308016,)\n"
          ]
        }
      ]
    },
    {
      "cell_type": "markdown",
      "source": [
        "The train dataset distribution overdifferent classes after oversampling"
      ],
      "metadata": {
        "id": "7jRHFU_dc5tJ"
      }
    },
    {
      "cell_type": "code",
      "source": [
        "plt.hist(data_train_l_balance, bins=np.arange(data_train_l_balance.min(), data_train_l_balance.max()+1))\n",
        "plt.xlabel(\"class name\")\n",
        "plt.ylabel(\"number of sample\")"
      ],
      "metadata": {
        "colab": {
          "base_uri": "https://localhost:8080/",
          "height": 296
        },
        "id": "Ue9zMFzaGb-4",
        "outputId": "59eafd27-db28-4ea4-e95e-d3af477dedee"
      },
      "execution_count": null,
      "outputs": [
        {
          "output_type": "execute_result",
          "data": {
            "text/plain": [
              "Text(0, 0.5, 'number of sample')"
            ]
          },
          "metadata": {},
          "execution_count": 38
        },
        {
          "output_type": "display_data",
          "data": {
            "text/plain": [
              "<Figure size 432x288 with 1 Axes>"
            ],
            "image/png": "[encoded data removed]"
          },
          "metadata": {
            "needs_background": "light"
          }
        }
      ]
    },
    {
      "cell_type": "markdown",
      "source": [
        "CNN model with balanced triaining dataset"
      ],
      "metadata": {
        "id": "pgUWpVXDhMEP"
      }
    },
    {
      "cell_type": "markdown",
      "source": [
        "expanding the dimension to fit the resnet50 model's requirement and normalise the data."
      ],
      "metadata": {
        "id": "nFwRannVi8yb"
      }
    },
    {
      "cell_type": "code",
      "source": [
        "data_train_f_balance = np.expand_dims(data_train_f_balance, axis=-1)\n",
        "# we need 3 channel\n",
        "data_train_f_balance = np.repeat(data_train_f_balance, 3, axis=-1)\n",
        "# it's always better to normalize \n",
        "data_train_f_balance = data_train_f_balance.astype('float32') / 255\n",
        "\n",
        "data_test_feature = np.expand_dims(data_test_feature, axis=-1)\n",
        "# we need 3 channel\n",
        "data_test_feature = np.repeat(data_test_feature, 3, axis=-1)\n",
        "# it's always better to normalize \n",
        "data_test_feature = data_test_feature.astype('float32') / 255"
      ],
      "metadata": {
        "id": "tolG7fQjhPub"
      },
      "execution_count": null,
      "outputs": []
    },
    {
      "cell_type": "code",
      "source": [
        "print(data_train_f_balance.shape,\n",
        "data_train_l_balance.shape,\n",
        ")"
      ],
      "metadata": {
        "colab": {
          "base_uri": "https://localhost:8080/"
        },
        "id": "-8SF7PitmYb_",
        "outputId": "e14d4803-2b36-4087-cde9-aaac69f15f9b"
      },
      "execution_count": null,
      "outputs": [
        {
          "output_type": "stream",
          "name": "stdout",
          "text": [
            "(308016, 28, 28, 3) (308016,)\n"
          ]
        }
      ]
    },
    {
      "cell_type": "markdown",
      "source": [
        "train test spliting and convert the ndarray to tensor.\n",
        "apply the resize function from tensorflow and make it to fit the minimum requirement for resnet50 model's input image size."
      ],
      "metadata": {
        "id": "QWbmjbZ1jcPG"
      }
    },
    {
      "cell_type": "code",
      "source": [
        "X_train_b, X_valid_b, y_train_b, y_valid_b = train_test_split(data_train_f_balance,data_train_l_balance,random_state=0)\n",
        "\n",
        "#convert x_train to tensor then resize\n",
        "X_train_b = tf.convert_to_tensor(X_train_b)\n",
        "X_train_b= tf.image.resize(X_train_b, [32,32])\n",
        "\n",
        "#convert x_valid to tensor then resize\n",
        "X_valid_b = tf.convert_to_tensor(X_valid_b)\n",
        "X_valid_b= tf.image.resize(X_valid_b, [32,32])\n",
        "\n",
        "data_test_feature = tf.convert_to_tensor(data_test_feature)\n",
        "data_test_feature=tf.image.resize(data_test_feature, [32,32])"
      ],
      "metadata": {
        "id": "8m1bV-IfhP3J"
      },
      "execution_count": null,
      "outputs": []
    },
    {
      "cell_type": "code",
      "source": [
        "print(tf.shape(X_train_b),tf.shape(X_valid_b))"
      ],
      "metadata": {
        "colab": {
          "base_uri": "https://localhost:8080/"
        },
        "id": "LGPQAzIJhV0Y",
        "outputId": "91f59177-d13e-4528-b48f-d0673c350c4b"
      },
      "execution_count": null,
      "outputs": [
        {
          "output_type": "stream",
          "name": "stdout",
          "text": [
            "tf.Tensor([231012     32     32      3], shape=(4,), dtype=int32) tf.Tensor([77004    32    32     3], shape=(4,), dtype=int32)\n"
          ]
        }
      ]
    },
    {
      "cell_type": "markdown",
      "source": [
        "defining the input and earlystopping of the model."
      ],
      "metadata": {
        "id": "N1IQz9Kwjv8H"
      }
    },
    {
      "cell_type": "code",
      "source": [
        "from tensorflow.keras.applications import ResNet50\n",
        "input_t = Input(shape=(32,32,3))\n",
        "callback = tf.keras.callbacks.EarlyStopping(monitor='loss', patience=2)"
      ],
      "metadata": {
        "id": "QvBzZXD0hYv9"
      },
      "execution_count": null,
      "outputs": []
    },
    {
      "cell_type": "markdown",
      "source": [
        "resenet50 model creation with no pre-train weight"
      ],
      "metadata": {
        "id": "jUvgN_HciHHI"
      }
    },
    {
      "cell_type": "code",
      "source": [
        "def creat_model(input_t):\n",
        "  res_model=ResNet50(include_top=False,weights=None, input_tensor = input_t)\n",
        "  base_model = Sequential()\n",
        "  base_model.add(res_model)\n",
        "  base_model.add(Flatten())\n",
        "  base_model.add(BatchNormalization())\n",
        "  base_model.add(Dense(256, activation='relu'))\n",
        "  base_model.add(Dropout(0.5))\n",
        "  base_model.add(BatchNormalization())\n",
        "  base_model.add(Dense(128, activation='relu'))\n",
        "  base_model.add(Dropout(0.5))\n",
        "  base_model.add(Dense(62, activation='softmax'))\n",
        "  return base_model"
      ],
      "metadata": {
        "id": "y32ExV7whY6R"
      },
      "execution_count": null,
      "outputs": []
    },
    {
      "cell_type": "markdown",
      "source": [
        "use the same parameter as the imblanaced dataset's turning down below in hyperparameter turning of the ResNet50 on imbalanced dataset,since we want to compare the model on balanced dataset and imbalanced dataset on same parameter."
      ],
      "metadata": {
        "id": "knJYgOCkiGYA"
      }
    },
    {
      "cell_type": "code",
      "source": [
        "base_model_b=creat_model(input_t)\n",
        "base_model_b.compile(loss='sparse_categorical_crossentropy',\n",
        "                optimizer=tf.keras.optimizers.Adam(learning_rate=0.001),\n",
        "                metrics=['accuracy'])\n",
        "  #fit the model and train\n",
        "history = base_model_b.fit(X_train_b,y_train_b,batch_size=128,epochs=15,validation_data=(X_valid_b,y_valid_b),callbacks=[callback])\n",
        "loss, accuracy = base_model_b.evaluate(data_test_feature, data_test_label)\n",
        "print(f\"Accuracy on test data: {accuracy:.4f}\")"
      ],
      "metadata": {
        "colab": {
          "base_uri": "https://localhost:8080/"
        },
        "id": "KpRO8SuihZBJ",
        "outputId": "0675cfab-6e0b-4b2e-d7ea-1eced8adeda3"
      },
      "execution_count": null,
      "outputs": [
        {
          "output_type": "stream",
          "name": "stdout",
          "text": [
            "Epoch 1/15\n",
            "1805/1805 [==============================] - 104s 54ms/step - loss: 1.1590 - accuracy: 0.6137 - val_loss: 0.7169 - val_accuracy: 0.7199\n",
            "Epoch 2/15\n",
            "1805/1805 [==============================] - 98s 54ms/step - loss: 0.6246 - accuracy: 0.7531 - val_loss: 0.6438 - val_accuracy: 0.7534\n",
            "Epoch 3/15\n",
            "1805/1805 [==============================] - 99s 55ms/step - loss: 0.5537 - accuracy: 0.7811 - val_loss: 0.5149 - val_accuracy: 0.7835\n",
            "Epoch 4/15\n",
            "1805/1805 [==============================] - 98s 54ms/step - loss: 0.5144 - accuracy: 0.7956 - val_loss: 0.6522 - val_accuracy: 0.7545\n",
            "Epoch 5/15\n",
            "1805/1805 [==============================] - 98s 54ms/step - loss: 0.4698 - accuracy: 0.8164 - val_loss: 0.4968 - val_accuracy: 0.8050\n",
            "Epoch 6/15\n",
            "1805/1805 [==============================] - 97s 54ms/step - loss: 0.4222 - accuracy: 0.8371 - val_loss: 0.4100 - val_accuracy: 0.8383\n",
            "Epoch 7/15\n",
            "1805/1805 [==============================] - 97s 54ms/step - loss: 0.3724 - accuracy: 0.8588 - val_loss: 0.3420 - val_accuracy: 0.8651\n",
            "Epoch 8/15\n",
            "1805/1805 [==============================] - 97s 54ms/step - loss: 0.3336 - accuracy: 0.8763 - val_loss: 0.3735 - val_accuracy: 0.8536\n",
            "Epoch 9/15\n",
            "1805/1805 [==============================] - 97s 54ms/step - loss: 0.2886 - accuracy: 0.8955 - val_loss: 0.3531 - val_accuracy: 0.8685\n",
            "Epoch 10/15\n",
            "1805/1805 [==============================] - 98s 54ms/step - loss: 0.2556 - accuracy: 0.9097 - val_loss: 0.2701 - val_accuracy: 0.8976\n",
            "Epoch 11/15\n",
            "1805/1805 [==============================] - 98s 54ms/step - loss: 0.2279 - accuracy: 0.9197 - val_loss: 0.2526 - val_accuracy: 0.9079\n",
            "Epoch 12/15\n",
            "1805/1805 [==============================] - 99s 55ms/step - loss: 0.2000 - accuracy: 0.9297 - val_loss: 0.2515 - val_accuracy: 0.9167\n",
            "Epoch 13/15\n",
            "1805/1805 [==============================] - 99s 55ms/step - loss: 0.1853 - accuracy: 0.9349 - val_loss: 0.2281 - val_accuracy: 0.9224\n",
            "Epoch 14/15\n",
            "1805/1805 [==============================] - 98s 54ms/step - loss: 0.1715 - accuracy: 0.9398 - val_loss: 0.2234 - val_accuracy: 0.9229\n",
            "Epoch 15/15\n",
            "1805/1805 [==============================] - 98s 54ms/step - loss: 0.1592 - accuracy: 0.9447 - val_loss: 0.1914 - val_accuracy: 0.9358\n",
            "2188/2188 [==============================] - 29s 13ms/step - loss: 0.6807 - accuracy: 0.8365\n",
            "Accuracy on test data: 0.8365\n"
          ]
        }
      ]
    },
    {
      "cell_type": "code",
      "source": [
        "from sklearn.metrics import classification_report\n",
        "y_pred = base_model_b.predict(data_test_feature, batch_size=128)\n",
        "y_pred_bool = np.argmax(y_pred, axis=1)\n",
        "print(classification_report(data_test_label, y_pred_bool))"
      ],
      "metadata": {
        "colab": {
          "base_uri": "https://localhost:8080/"
        },
        "id": "EgLuNOCLhepk",
        "outputId": "1378729d-2256-4acb-bf7a-59f84b79721e"
      },
      "execution_count": null,
      "outputs": [
        {
          "output_type": "stream",
          "name": "stdout",
          "text": [
            "              precision    recall  f1-score   support\n",
            "\n",
            "           0       0.69      0.74      0.71      3461\n",
            "           1       0.70      0.73      0.71      3860\n",
            "           2       0.96      0.95      0.95      3559\n",
            "           3       0.99      0.99      0.99      3577\n",
            "           4       0.97      0.95      0.96      3411\n",
            "           5       0.94      0.92      0.93      3115\n",
            "           6       0.97      0.96      0.96      3426\n",
            "           7       0.98      0.99      0.98      3768\n",
            "           8       0.95      0.98      0.97      3375\n",
            "           9       0.91      0.96      0.94      3390\n",
            "          10       0.93      0.94      0.93       647\n",
            "          11       0.94      0.92      0.93       395\n",
            "          12       0.80      0.78      0.79      1080\n",
            "          13       0.79      0.91      0.84       446\n",
            "          14       0.93      0.96      0.94       521\n",
            "          15       0.79      0.67      0.72       874\n",
            "          16       0.84      0.87      0.86       254\n",
            "          17       0.88      0.92      0.90       331\n",
            "          18       0.52      0.52      0.52      1237\n",
            "          19       0.85      0.85      0.85       391\n",
            "          20       0.63      0.75      0.69       232\n",
            "          21       0.88      0.86      0.87       476\n",
            "          22       0.79      0.76      0.78       872\n",
            "          23       0.90      0.98      0.94       804\n",
            "          24       0.62      0.58      0.60      2470\n",
            "          25       0.81      0.86      0.83       828\n",
            "          26       0.83      0.89      0.86       257\n",
            "          27       0.89      0.95      0.92       493\n",
            "          28       0.81      0.87      0.84      2099\n",
            "          29       0.90      0.94      0.92       965\n",
            "          30       0.80      0.81      0.81      1209\n",
            "          31       0.64      0.58      0.61       489\n",
            "          32       0.77      0.81      0.79       467\n",
            "          33       0.63      0.72      0.67       266\n",
            "          34       0.68      0.80      0.74       462\n",
            "          35       0.63      0.68      0.65       274\n",
            "          36       0.88      0.91      0.90       955\n",
            "          37       0.79      0.87      0.83       505\n",
            "          38       0.28      0.28      0.28       243\n",
            "          39       0.97      0.96      0.97      1036\n",
            "          40       0.97      0.97      0.97      2462\n",
            "          41       0.32      0.49      0.39       259\n",
            "          42       0.63      0.43      0.51       375\n",
            "          43       0.89      0.96      0.93       900\n",
            "          44       0.40      0.46      0.43       263\n",
            "          45       0.63      0.64      0.63       188\n",
            "          46       0.72      0.63      0.67       283\n",
            "          47       0.37      0.32      0.34      1533\n",
            "          48       0.35      0.40      0.37       269\n",
            "          49       0.95      0.90      0.92      1116\n",
            "          50       0.07      0.02      0.04       283\n",
            "          51       0.46      0.33      0.39       224\n",
            "          52       0.62      0.36      0.45       295\n",
            "          53       0.95      0.94      0.95      1352\n",
            "          54       0.17      0.11      0.13       272\n",
            "          55       0.95      0.92      0.93      1773\n",
            "          56       0.32      0.30      0.31       274\n",
            "          57       0.48      0.57      0.52       302\n",
            "          58       0.65      0.59      0.62       283\n",
            "          59       0.61      0.58      0.59       279\n",
            "          60       0.49      0.35      0.41       231\n",
            "          61       0.52      0.51      0.52       264\n",
            "\n",
            "    accuracy                           0.84     70000\n",
            "   macro avg       0.73      0.73      0.72     70000\n",
            "weighted avg       0.83      0.84      0.83     70000\n",
            "\n"
          ]
        }
      ]
    },
    {
      "cell_type": "markdown",
      "source": [
        "CNN model with inbalanced training dataset"
      ],
      "metadata": {
        "id": "kjSKDPYmhFy0"
      }
    },
    {
      "cell_type": "markdown",
      "source": [
        "Load same amount of data as the oversampling dataset numbers"
      ],
      "metadata": {
        "id": "MeoXZUWldUoa"
      }
    },
    {
      "cell_type": "code",
      "source": [
        "train_pd_in = pd.read_csv('/content/gdrive/My Drive/datasets/emnist-byclass-train.csv',delimiter=\",\", nrows=308016,header=None)\n"
      ],
      "metadata": {
        "id": "lYCIEM8soNe2"
      },
      "execution_count": null,
      "outputs": []
    },
    {
      "cell_type": "markdown",
      "source": [
        "Select features and label"
      ],
      "metadata": {
        "id": "thAs6EQAda5R"
      }
    },
    {
      "cell_type": "code",
      "source": [
        "data_train_feature = train_pd_in.loc[:, \"1\":\"784\"].to_numpy()\n",
        "# Selecting output lable \n",
        "data_train_label = train_pd_in.iloc[:, 0].to_numpy()\n"
      ],
      "metadata": {
        "id": "Va2NqZuVoNiW"
      },
      "execution_count": null,
      "outputs": []
    },
    {
      "cell_type": "code",
      "source": [
        "data_train_feature = data_train_feature.reshape((data_train_feature.shape[0], 28, 28))\n",
        "data_train_feature.shape"
      ],
      "metadata": {
        "colab": {
          "base_uri": "https://localhost:8080/"
        },
        "id": "lhDavZDpfxik",
        "outputId": "6f83f558-309c-49c9-90d8-442cbd32b194"
      },
      "execution_count": null,
      "outputs": [
        {
          "output_type": "execute_result",
          "data": {
            "text/plain": [
              "(308016, 28, 28)"
            ]
          },
          "metadata": {},
          "execution_count": 21
        }
      ]
    },
    {
      "cell_type": "markdown",
      "source": [
        "expanding the dimension"
      ],
      "metadata": {
        "id": "EGGt4V5igLtg"
      }
    },
    {
      "cell_type": "code",
      "source": [
        "\n",
        "data_train_feature = np.expand_dims(data_train_feature, axis=-1)\n",
        "# we need 3 channel\n",
        "data_train_feature = np.repeat(data_train_feature, 3, axis=-1)\n",
        "# it's always better to normalize \n",
        "data_train_feature = data_train_feature.astype('float32') / 255\n"
      ],
      "metadata": {
        "id": "BfSC5ENydtBt"
      },
      "execution_count": null,
      "outputs": []
    },
    {
      "cell_type": "markdown",
      "source": [
        "Convert image to tensor then resize them to 32*32"
      ],
      "metadata": {
        "id": "UuEk9qlbdxiz"
      }
    },
    {
      "cell_type": "code",
      "source": [
        "X_train, X_valid, y_train, y_valid = train_test_split(data_train_feature,data_train_label,random_state=0)\n",
        "\n",
        "#convert x_train to tensor then resize\n",
        "X_train = tf.convert_to_tensor(X_train)\n",
        "X_train= tf.image.resize(X_train, [32,32])\n",
        "\n",
        "#convert x_valid to tensor then resize\n",
        "X_valid = tf.convert_to_tensor(X_valid)\n",
        "X_valid= tf.image.resize(X_valid, [32,32])\n"
      ],
      "metadata": {
        "id": "XJxse9qldx2Y"
      },
      "execution_count": null,
      "outputs": []
    },
    {
      "cell_type": "code",
      "source": [
        "print(tf.shape(X_train),tf.shape(X_valid))"
      ],
      "metadata": {
        "colab": {
          "base_uri": "https://localhost:8080/"
        },
        "id": "8Cn2oD_gfFXD",
        "outputId": "5f212ab8-7516-4c68-ccae-41d5c52d970e"
      },
      "execution_count": null,
      "outputs": [
        {
          "output_type": "stream",
          "name": "stdout",
          "text": [
            "tf.Tensor([231012     32     32      3], shape=(4,), dtype=int32) tf.Tensor([77004    32    32     3], shape=(4,), dtype=int32)\n"
          ]
        }
      ]
    },
    {
      "cell_type": "code",
      "source": [
        "from tensorflow.keras.applications import ResNet50\n",
        "input_t = Input(shape=(32,32,3))\n",
        "callback = tf.keras.callbacks.EarlyStopping(monitor='loss', patience=3)"
      ],
      "metadata": {
        "id": "-4wSLFBTd5gt"
      },
      "execution_count": null,
      "outputs": []
    },
    {
      "cell_type": "markdown",
      "source": [
        "Hyperparameter turning on learning rate of Adam optimizer and the batch size "
      ],
      "metadata": {
        "id": "_Oq86_-mp6G_"
      }
    },
    {
      "cell_type": "code",
      "source": [
        "learning_rate=[1e-2,1e-3]\n",
        "batch=[128,256]\n",
        "result=[]\n",
        "result_history=[]\n",
        "\n",
        "def model_turning(lr,bs,base_model):\n",
        "  base_model.compile(loss='sparse_categorical_crossentropy',\n",
        "                optimizer=tf.keras.optimizers.Adam(learning_rate=lr),\n",
        "                metrics=['accuracy'])\n",
        "  #fit the model and train\n",
        "  history = base_model.fit(X_train,y_train,batch_size=bs,epochs=10,validation_data=(X_valid,y_valid),callbacks=[callback])\n",
        "  loss, accuracy = base_model.evaluate(data_test_feature, data_test_label)\n",
        "  print(f\"Accuracy on test data: {accuracy:.4f}\")\n",
        "  return accuracy,lr,bs,history\n",
        "\n",
        "for i in range(len(learning_rate)):\n",
        "  for j in range(len(batch)):\n",
        "    model=creat_model(input_t)\n",
        "    print('learning rate:{} batch size: {}'.format(learning_rate[i],batch[j]))\n",
        "    model_result= model_turning(learning_rate[i],batch[j],model)\n",
        "    result_history.append(model_result[3])\n",
        "    result.append((model_result[0],model_result[1],model_result[2]))"
      ],
      "metadata": {
        "colab": {
          "base_uri": "https://localhost:8080/"
        },
        "id": "xP0N-VD3gr7A",
        "outputId": "31d1cb9c-1fee-4609-b371-14bc95f5ea5c"
      },
      "execution_count": null,
      "outputs": [
        {
          "output_type": "stream",
          "name": "stdout",
          "text": [
            "learning rate:0.01 batch size: 128\n",
            "Epoch 1/10\n",
            "1805/1805 [==============================] - 108s 57ms/step - loss: 1.1358 - accuracy: 0.6690 - val_loss: 1.0500 - val_accuracy: 0.6985\n",
            "Epoch 2/10\n",
            "1805/1805 [==============================] - 101s 56ms/step - loss: 0.7017 - accuracy: 0.7835 - val_loss: 0.5910 - val_accuracy: 0.8118\n",
            "Epoch 3/10\n",
            "1805/1805 [==============================] - 102s 56ms/step - loss: 0.6558 - accuracy: 0.7979 - val_loss: 0.9398 - val_accuracy: 0.7469\n",
            "Epoch 4/10\n",
            "1805/1805 [==============================] - 101s 56ms/step - loss: 0.6324 - accuracy: 0.8040 - val_loss: 0.5620 - val_accuracy: 0.8148\n",
            "Epoch 5/10\n",
            "1805/1805 [==============================] - 102s 56ms/step - loss: 0.6240 - accuracy: 0.8087 - val_loss: 0.5889 - val_accuracy: 0.8216\n",
            "Epoch 6/10\n",
            "1805/1805 [==============================] - 102s 56ms/step - loss: 0.6036 - accuracy: 0.8124 - val_loss: 0.5974 - val_accuracy: 0.8119\n",
            "Epoch 7/10\n",
            "1805/1805 [==============================] - 101s 56ms/step - loss: 0.5840 - accuracy: 0.8179 - val_loss: 0.5113 - val_accuracy: 0.8350\n",
            "Epoch 8/10\n",
            "1805/1805 [==============================] - 101s 56ms/step - loss: 0.5743 - accuracy: 0.8200 - val_loss: 0.4940 - val_accuracy: 0.8337\n",
            "Epoch 9/10\n",
            "1805/1805 [==============================] - 101s 56ms/step - loss: 0.5679 - accuracy: 0.8214 - val_loss: 0.4808 - val_accuracy: 0.8420\n",
            "Epoch 10/10\n",
            "1805/1805 [==============================] - 101s 56ms/step - loss: 0.5619 - accuracy: 0.8236 - val_loss: 0.4901 - val_accuracy: 0.8427\n",
            "2188/2188 [==============================] - 29s 13ms/step - loss: 0.4882 - accuracy: 0.8443\n",
            "Accuracy on test data: 0.8443\n",
            "learning rate:0.01 batch size: 256\n",
            "Epoch 1/10\n",
            "903/903 [==============================] - 75s 77ms/step - loss: 1.1299 - accuracy: 0.6708 - val_loss: 1.0208 - val_accuracy: 0.7317\n",
            "Epoch 2/10\n",
            "903/903 [==============================] - 68s 75ms/step - loss: 0.6362 - accuracy: 0.7981 - val_loss: 0.5807 - val_accuracy: 0.8131\n",
            "Epoch 3/10\n",
            "903/903 [==============================] - 68s 75ms/step - loss: 0.5761 - accuracy: 0.8164 - val_loss: 0.4917 - val_accuracy: 0.8336\n",
            "Epoch 4/10\n",
            "903/903 [==============================] - 68s 75ms/step - loss: 0.5492 - accuracy: 0.8239 - val_loss: 0.5831 - val_accuracy: 0.8062\n",
            "Epoch 5/10\n",
            "903/903 [==============================] - 68s 75ms/step - loss: 0.5363 - accuracy: 0.8273 - val_loss: 5.7276 - val_accuracy: 0.6807\n",
            "Epoch 6/10\n",
            "903/903 [==============================] - 68s 75ms/step - loss: 0.5534 - accuracy: 0.8224 - val_loss: 0.5351 - val_accuracy: 0.8229\n",
            "Epoch 7/10\n",
            "903/903 [==============================] - 68s 75ms/step - loss: 0.5160 - accuracy: 0.8319 - val_loss: 0.6106 - val_accuracy: 0.8103\n",
            "Epoch 8/10\n",
            "903/903 [==============================] - 68s 75ms/step - loss: 0.6048 - accuracy: 0.8113 - val_loss: 0.5018 - val_accuracy: 0.8329\n",
            "Epoch 9/10\n",
            "903/903 [==============================] - 68s 75ms/step - loss: 0.5169 - accuracy: 0.8319 - val_loss: 0.4708 - val_accuracy: 0.8408\n",
            "Epoch 10/10\n",
            "903/903 [==============================] - 68s 75ms/step - loss: 0.5002 - accuracy: 0.8361 - val_loss: 0.4972 - val_accuracy: 0.8406\n",
            "2188/2188 [==============================] - 29s 13ms/step - loss: 0.5015 - accuracy: 0.8400\n",
            "Accuracy on test data: 0.8400\n",
            "learning rate:0.001 batch size: 128\n",
            "Epoch 1/10\n",
            "1805/1805 [==============================] - 107s 56ms/step - loss: 1.0305 - accuracy: 0.7161 - val_loss: 0.6130 - val_accuracy: 0.7978\n",
            "Epoch 2/10\n",
            "1805/1805 [==============================] - 100s 56ms/step - loss: 0.5740 - accuracy: 0.8181 - val_loss: 0.5374 - val_accuracy: 0.8224\n",
            "Epoch 3/10\n",
            "1805/1805 [==============================] - 98s 54ms/step - loss: 0.5274 - accuracy: 0.8286 - val_loss: 0.5101 - val_accuracy: 0.8273\n",
            "Epoch 4/10\n",
            "1805/1805 [==============================] - 98s 54ms/step - loss: 0.5035 - accuracy: 0.8356 - val_loss: 0.4939 - val_accuracy: 0.8246\n",
            "Epoch 5/10\n",
            "1805/1805 [==============================] - 98s 54ms/step - loss: 0.4828 - accuracy: 0.8401 - val_loss: 0.4577 - val_accuracy: 0.8431\n",
            "Epoch 6/10\n",
            "1805/1805 [==============================] - 98s 54ms/step - loss: 0.4630 - accuracy: 0.8451 - val_loss: 0.4388 - val_accuracy: 0.8497\n",
            "Epoch 7/10\n",
            "1805/1805 [==============================] - 98s 54ms/step - loss: 0.4420 - accuracy: 0.8502 - val_loss: 0.4264 - val_accuracy: 0.8476\n",
            "Epoch 8/10\n",
            "1805/1805 [==============================] - 98s 54ms/step - loss: 0.4309 - accuracy: 0.8534 - val_loss: 0.4017 - val_accuracy: 0.8601\n",
            "Epoch 9/10\n",
            "1805/1805 [==============================] - 99s 55ms/step - loss: 0.4155 - accuracy: 0.8568 - val_loss: 0.4002 - val_accuracy: 0.8591\n",
            "Epoch 10/10\n",
            "1805/1805 [==============================] - 101s 56ms/step - loss: 0.4042 - accuracy: 0.8598 - val_loss: 0.3927 - val_accuracy: 0.8603\n",
            "2188/2188 [==============================] - 32s 14ms/step - loss: 0.3922 - accuracy: 0.8606\n",
            "Accuracy on test data: 0.8606\n",
            "learning rate:0.001 batch size: 256\n",
            "Epoch 1/10\n",
            "903/903 [==============================] - 76s 77ms/step - loss: 1.0967 - accuracy: 0.7037 - val_loss: 0.5844 - val_accuracy: 0.8022\n",
            "Epoch 2/10\n",
            "903/903 [==============================] - 69s 76ms/step - loss: 0.5652 - accuracy: 0.8208 - val_loss: 0.5037 - val_accuracy: 0.8312\n",
            "Epoch 3/10\n",
            "903/903 [==============================] - 69s 76ms/step - loss: 0.5059 - accuracy: 0.8349 - val_loss: 0.5039 - val_accuracy: 0.8359\n",
            "Epoch 4/10\n",
            "903/903 [==============================] - 69s 76ms/step - loss: 0.4816 - accuracy: 0.8412 - val_loss: 0.4928 - val_accuracy: 0.8349\n",
            "Epoch 5/10\n",
            "903/903 [==============================] - 68s 75ms/step - loss: 0.4654 - accuracy: 0.8446 - val_loss: 0.5131 - val_accuracy: 0.8325\n",
            "Epoch 6/10\n",
            "903/903 [==============================] - 68s 75ms/step - loss: 0.4543 - accuracy: 0.8482 - val_loss: 0.4538 - val_accuracy: 0.8444\n",
            "Epoch 7/10\n",
            "903/903 [==============================] - 67s 75ms/step - loss: 0.4403 - accuracy: 0.8510 - val_loss: 0.5364 - val_accuracy: 0.8301\n",
            "Epoch 8/10\n",
            "903/903 [==============================] - 67s 75ms/step - loss: 0.4326 - accuracy: 0.8529 - val_loss: 0.4478 - val_accuracy: 0.8435\n",
            "Epoch 9/10\n",
            "903/903 [==============================] - 67s 75ms/step - loss: 0.4231 - accuracy: 0.8551 - val_loss: 0.4077 - val_accuracy: 0.8562\n",
            "Epoch 10/10\n",
            "903/903 [==============================] - 67s 74ms/step - loss: 0.4120 - accuracy: 0.8579 - val_loss: 0.4157 - val_accuracy: 0.8518\n",
            "2188/2188 [==============================] - 29s 13ms/step - loss: 0.4155 - accuracy: 0.8533\n",
            "Accuracy on test data: 0.8533\n"
          ]
        }
      ]
    },
    {
      "cell_type": "markdown",
      "source": [
        "showing all the result and find best parameter"
      ],
      "metadata": {
        "id": "SMGto6n-d-GW"
      }
    },
    {
      "cell_type": "code",
      "source": [
        "for item in result:\n",
        "  print(item[0],item[1],item[2])"
      ],
      "metadata": {
        "colab": {
          "base_uri": "https://localhost:8080/"
        },
        "id": "5BB7Oe6lgtkz",
        "outputId": "b832db87-0451-4f95-adf2-7d1be097f2b7"
      },
      "execution_count": null,
      "outputs": [
        {
          "output_type": "stream",
          "name": "stdout",
          "text": [
            "0.8442714214324951 0.01 128\n",
            "0.8399571180343628 0.01 256\n",
            "0.8605571389198303 0.001 128\n",
            "0.8532857298851013 0.001 256\n"
          ]
        }
      ]
    },
    {
      "cell_type": "markdown",
      "source": [
        "Model with best hyperparameter"
      ],
      "metadata": {
        "id": "Ym2-qAMng3Sz"
      }
    },
    {
      "cell_type": "code",
      "source": [
        "base_model=creat_model(input_t)\n",
        "base_model.compile(loss='sparse_categorical_crossentropy',\n",
        "                optimizer=tf.keras.optimizers.Adam(learning_rate=0.001 ),\n",
        "                metrics=['accuracy'])\n",
        "  #fit the model and train\n",
        "history = base_model.fit(X_train,y_train,batch_size=128,epochs= 15,validation_data=(X_valid,y_valid),callbacks=[callback])\n",
        "loss, accuracy = base_model.evaluate(data_test_feature, data_test_label)\n",
        "print(f\"Accuracy on test data: {accuracy:.4f}\")"
      ],
      "metadata": {
        "colab": {
          "base_uri": "https://localhost:8080/"
        },
        "id": "AvOBGbUGd9q9",
        "outputId": "f90dcdf0-f005-4952-c4d2-eac591640717"
      },
      "execution_count": null,
      "outputs": [
        {
          "output_type": "stream",
          "name": "stdout",
          "text": [
            "Epoch 1/15\n",
            "1805/1805 [==============================] - 105s 55ms/step - loss: 1.0338 - accuracy: 0.7140 - val_loss: 0.6012 - val_accuracy: 0.8028\n",
            "Epoch 2/15\n",
            "1805/1805 [==============================] - 98s 54ms/step - loss: 0.5678 - accuracy: 0.8189 - val_loss: 0.5038 - val_accuracy: 0.8215\n",
            "Epoch 3/15\n",
            "1805/1805 [==============================] - 98s 55ms/step - loss: 0.5256 - accuracy: 0.8293 - val_loss: 0.4980 - val_accuracy: 0.8356\n",
            "Epoch 4/15\n",
            "1805/1805 [==============================] - 98s 54ms/step - loss: 0.4998 - accuracy: 0.8354 - val_loss: 0.4699 - val_accuracy: 0.8381\n",
            "Epoch 5/15\n",
            "1805/1805 [==============================] - 97s 54ms/step - loss: 0.4806 - accuracy: 0.8402 - val_loss: 0.4788 - val_accuracy: 0.8334\n",
            "Epoch 6/15\n",
            "1805/1805 [==============================] - 97s 54ms/step - loss: 0.4616 - accuracy: 0.8454 - val_loss: 0.4223 - val_accuracy: 0.8511\n",
            "Epoch 7/15\n",
            "1805/1805 [==============================] - 97s 54ms/step - loss: 0.4444 - accuracy: 0.8495 - val_loss: 0.4638 - val_accuracy: 0.8423\n",
            "Epoch 8/15\n",
            "1805/1805 [==============================] - 97s 54ms/step - loss: 0.4278 - accuracy: 0.8535 - val_loss: 0.4264 - val_accuracy: 0.8505\n",
            "Epoch 9/15\n",
            "1805/1805 [==============================] - 97s 54ms/step - loss: 0.4135 - accuracy: 0.8573 - val_loss: 0.4378 - val_accuracy: 0.8422\n",
            "Epoch 10/15\n",
            "1805/1805 [==============================] - 97s 54ms/step - loss: 0.4044 - accuracy: 0.8597 - val_loss: 0.4021 - val_accuracy: 0.8576\n",
            "Epoch 11/15\n",
            "1805/1805 [==============================] - 97s 54ms/step - loss: 0.3920 - accuracy: 0.8623 - val_loss: 0.3973 - val_accuracy: 0.8592\n",
            "Epoch 12/15\n",
            "1805/1805 [==============================] - 97s 54ms/step - loss: 0.3832 - accuracy: 0.8647 - val_loss: 0.3973 - val_accuracy: 0.8604\n",
            "Epoch 13/15\n",
            "1805/1805 [==============================] - 97s 54ms/step - loss: 0.3751 - accuracy: 0.8670 - val_loss: 0.3905 - val_accuracy: 0.8613\n",
            "Epoch 14/15\n",
            "1805/1805 [==============================] - 97s 54ms/step - loss: 0.3686 - accuracy: 0.8681 - val_loss: 0.3809 - val_accuracy: 0.8637\n",
            "Epoch 15/15\n",
            "1805/1805 [==============================] - 97s 54ms/step - loss: 0.3593 - accuracy: 0.8712 - val_loss: 0.3901 - val_accuracy: 0.8637\n",
            "2188/2188 [==============================] - 28s 13ms/step - loss: 0.3855 - accuracy: 0.8646\n",
            "Accuracy on test data: 0.8646\n"
          ]
        }
      ]
    },
    {
      "cell_type": "code",
      "source": [
        "from sklearn.metrics import classification_report\n",
        "y_pred = base_model.predict(data_test_feature, batch_size=128)\n",
        "y_pred_bool = np.argmax(y_pred, axis=1)\n",
        "print(classification_report(data_test_label, y_pred_bool))"
      ],
      "metadata": {
        "colab": {
          "base_uri": "https://localhost:8080/"
        },
        "id": "I2vEbvxCd5lF",
        "outputId": "603d9f25-67cb-48a7-feaa-6875c906c710"
      },
      "execution_count": null,
      "outputs": [
        {
          "output_type": "stream",
          "name": "stdout",
          "text": [
            "              precision    recall  f1-score   support\n",
            "\n",
            "           0       0.69      0.80      0.74      3461\n",
            "           1       0.65      0.96      0.77      3860\n",
            "           2       0.96      0.98      0.97      3559\n",
            "           3       0.99      0.99      0.99      3577\n",
            "           4       0.97      0.97      0.97      3411\n",
            "           5       0.96      0.92      0.94      3115\n",
            "           6       0.97      0.98      0.97      3426\n",
            "           7       0.99      0.99      0.99      3768\n",
            "           8       0.98      0.99      0.98      3375\n",
            "           9       0.93      0.98      0.96      3390\n",
            "          10       0.92      0.98      0.95       647\n",
            "          11       0.94      0.93      0.94       395\n",
            "          12       0.77      0.97      0.86      1080\n",
            "          13       0.96      0.83      0.89       446\n",
            "          14       0.95      0.97      0.96       521\n",
            "          15       0.75      0.98      0.85       874\n",
            "          16       0.85      0.95      0.90       254\n",
            "          17       0.94      0.92      0.93       331\n",
            "          18       0.67      0.46      0.55      1237\n",
            "          19       0.95      0.77      0.85       391\n",
            "          20       0.67      0.72      0.69       232\n",
            "          21       0.88      0.91      0.89       476\n",
            "          22       0.75      0.99      0.86       872\n",
            "          23       0.92      0.99      0.95       804\n",
            "          24       0.63      0.57      0.60      2470\n",
            "          25       0.82      0.94      0.88       828\n",
            "          26       0.93      0.86      0.90       257\n",
            "          27       0.92      0.97      0.95       493\n",
            "          28       0.80      0.96      0.87      2099\n",
            "          29       0.93      0.95      0.94       965\n",
            "          30       0.76      0.98      0.85      1209\n",
            "          31       0.74      0.40      0.52       489\n",
            "          32       0.95      0.55      0.69       467\n",
            "          33       0.78      0.60      0.68       266\n",
            "          34       0.83      0.71      0.77       462\n",
            "          35       0.76      0.68      0.72       274\n",
            "          36       0.93      0.93      0.93       955\n",
            "          37       0.97      0.77      0.86       505\n",
            "          38       0.00      0.00      0.00       243\n",
            "          39       0.99      0.98      0.98      1036\n",
            "          40       0.98      0.98      0.98      2462\n",
            "          41       0.00      0.00      0.00       259\n",
            "          42       0.77      0.55      0.64       375\n",
            "          43       0.96      0.94      0.95       900\n",
            "          44       0.73      0.41      0.52       263\n",
            "          45       0.73      0.73      0.73       188\n",
            "          46       0.74      0.68      0.71       283\n",
            "          47       0.57      0.06      0.11      1533\n",
            "          48       0.00      0.00      0.00       269\n",
            "          49       0.93      0.94      0.94      1116\n",
            "          50       0.00      0.00      0.00       283\n",
            "          51       0.63      0.23      0.34       224\n",
            "          52       0.71      0.42      0.52       295\n",
            "          53       0.94      0.97      0.95      1352\n",
            "          54       0.00      0.00      0.00       272\n",
            "          55       0.97      0.93      0.95      1773\n",
            "          56       0.17      0.00      0.01       274\n",
            "          57       0.47      0.72      0.57       302\n",
            "          58       0.56      0.93      0.70       283\n",
            "          59       0.65      0.82      0.73       279\n",
            "          60       0.57      0.51      0.54       231\n",
            "          61       0.69      0.52      0.59       264\n",
            "\n",
            "    accuracy                           0.86     70000\n",
            "   macro avg       0.75      0.73      0.73     70000\n",
            "weighted avg       0.85      0.86      0.85     70000\n",
            "\n"
          ]
        },
        {
          "output_type": "stream",
          "name": "stderr",
          "text": [
            "/usr/local/lib/python3.7/dist-packages/sklearn/metrics/_classification.py:1318: UndefinedMetricWarning: Precision and F-score are ill-defined and being set to 0.0 in labels with no predicted samples. Use `zero_division` parameter to control this behavior.\n",
            "  _warn_prf(average, modifier, msg_start, len(result))\n",
            "/usr/local/lib/python3.7/dist-packages/sklearn/metrics/_classification.py:1318: UndefinedMetricWarning: Precision and F-score are ill-defined and being set to 0.0 in labels with no predicted samples. Use `zero_division` parameter to control this behavior.\n",
            "  _warn_prf(average, modifier, msg_start, len(result))\n",
            "/usr/local/lib/python3.7/dist-packages/sklearn/metrics/_classification.py:1318: UndefinedMetricWarning: Precision and F-score are ill-defined and being set to 0.0 in labels with no predicted samples. Use `zero_division` parameter to control this behavior.\n",
            "  _warn_prf(average, modifier, msg_start, len(result))\n"
          ]
        }
      ]
    },
    {
      "cell_type": "markdown",
      "source": [
        "Save the model"
      ],
      "metadata": {
        "id": "n5pWWvH11m_9"
      }
    },
    {
      "cell_type": "code",
      "source": [
        "base_model.save('my_model.h5')"
      ],
      "metadata": {
        "id": "-1m_MUMF1msx"
      },
      "execution_count": null,
      "outputs": []
    },
    {
      "cell_type": "code",
      "source": [
        "from google.colab import files\n",
        "files.download('/content/my_model.h5')"
      ],
      "metadata": {
        "colab": {
          "base_uri": "https://localhost:8080/",
          "height": 17
        },
        "id": "2HRd-WW6fiQ4",
        "outputId": "679927f0-901f-469d-ebc8-42a11ac4b721"
      },
      "execution_count": null,
      "outputs": [
        {
          "output_type": "display_data",
          "data": {
            "text/plain": [
              "<IPython.core.display.Javascript object>"
            ],
            "application/javascript": [
              "\n",
              "    async function download(id, filename, size) {\n",
              "      if (!google.colab.kernel.accessAllowed) {\n",
              "        return;\n",
              "      }\n",
              "      const div = document.createElement('div');\n",
              "      const label = document.createElement('label');\n",
              "      label.textContent = `Downloading \"${filename}\": `;\n",
              "      div.appendChild(label);\n",
              "      const progress = document.createElement('progress');\n",
              "      progress.max = size;\n",
              "      div.appendChild(progress);\n",
              "      document.body.appendChild(div);\n",
              "\n",
              "      const buffers = [];\n",
              "      let downloaded = 0;\n",
              "\n",
              "      const channel = await google.colab.kernel.comms.open(id);\n",
              "      // Send a message to notify the kernel that we're ready.\n",
              "      channel.send({})\n",
              "\n",
              "      for await (const message of channel.messages) {\n",
              "        // Send a message to notify the kernel that we're ready.\n",
              "        channel.send({})\n",
              "        if (message.buffers) {\n",
              "          for (const buffer of message.buffers) {\n",
              "            buffers.push(buffer);\n",
              "            downloaded += buffer.byteLength;\n",
              "            progress.value = downloaded;\n",
              "          }\n",
              "        }\n",
              "      }\n",
              "      const blob = new Blob(buffers, {type: 'application/binary'});\n",
              "      const a = document.createElement('a');\n",
              "      a.href = window.URL.createObjectURL(blob);\n",
              "      a.download = filename;\n",
              "      div.appendChild(a);\n",
              "      a.click();\n",
              "      div.remove();\n",
              "    }\n",
              "  "
            ]
          },
          "metadata": {}
        },
        {
          "output_type": "display_data",
          "data": {
            "text/plain": [
              "<IPython.core.display.Javascript object>"
            ],
            "application/javascript": [
              "download(\"download_22303455-d524-41df-92be-69ac5e64c829\", \"my_model.h5\", 290355624)"
            ]
          },
          "metadata": {}
        }
      ]
    },
    {
      "cell_type": "markdown",
      "source": [
        "System information"
      ],
      "metadata": {
        "id": "KfiqfD4WOuKw"
      }
    },
    {
      "cell_type": "code",
      "source": [
        "!cat /proc/cpuinfo\n",
        "!cat /proc/meminfo\n",
        "from tensorflow.python.client import device_lib\n",
        "device_lib.list_local_devices()"
      ],
      "metadata": {
        "colab": {
          "base_uri": "https://localhost:8080/"
        },
        "id": "3THYso3BOGQ7",
        "outputId": "da25dbd7-8732-415e-8fc5-27d3b0c1c277"
      },
      "execution_count": null,
      "outputs": [
        {
          "output_type": "stream",
          "name": "stdout",
          "text": [
            "processor\t: 0\n",
            "vendor_id\t: GenuineIntel\n",
            "cpu family\t: 6\n",
            "model\t\t: 79\n",
            "model name\t: Intel(R) Xeon(R) CPU @ 2.20GHz\n",
            "stepping\t: 0\n",
            "microcode\t: 0x1\n",
            "cpu MHz\t\t: 2199.998\n",
            "cache size\t: 56320 KB\n",
            "physical id\t: 0\n",
            "siblings\t: 4\n",
            "core id\t\t: 0\n",
            "cpu cores\t: 2\n",
            "apicid\t\t: 0\n",
            "initial apicid\t: 0\n",
            "fpu\t\t: yes\n",
            "fpu_exception\t: yes\n",
            "cpuid level\t: 13\n",
            "wp\t\t: yes\n",
            "flags\t\t: fpu vme de pse tsc msr pae mce cx8 apic sep mtrr pge mca cmov pat pse36 clflush mmx fxsr sse sse2 ss ht syscall nx pdpe1gb rdtscp lm constant_tsc rep_good nopl xtopology nonstop_tsc cpuid tsc_known_freq pni pclmulqdq ssse3 fma cx16 pcid sse4_1 sse4_2 x2apic movbe popcnt aes xsave avx f16c rdrand hypervisor lahf_lm abm 3dnowprefetch invpcid_single ssbd ibrs ibpb stibp fsgsbase tsc_adjust bmi1 hle avx2 smep bmi2 erms invpcid rtm rdseed adx smap xsaveopt arat md_clear arch_capabilities\n",
            "bugs\t\t: cpu_meltdown spectre_v1 spectre_v2 spec_store_bypass l1tf mds swapgs taa\n",
            "bogomips\t: 4399.99\n",
            "clflush size\t: 64\n",
            "cache_alignment\t: 64\n",
            "address sizes\t: 46 bits physical, 48 bits virtual\n",
            "power management:\n",
            "\n",
            "processor\t: 1\n",
            "vendor_id\t: GenuineIntel\n",
            "cpu family\t: 6\n",
            "model\t\t: 79\n",
            "model name\t: Intel(R) Xeon(R) CPU @ 2.20GHz\n",
            "stepping\t: 0\n",
            "microcode\t: 0x1\n",
            "cpu MHz\t\t: 2199.998\n",
            "cache size\t: 56320 KB\n",
            "physical id\t: 0\n",
            "siblings\t: 4\n",
            "core id\t\t: 1\n",
            "cpu cores\t: 2\n",
            "apicid\t\t: 2\n",
            "initial apicid\t: 2\n",
            "fpu\t\t: yes\n",
            "fpu_exception\t: yes\n",
            "cpuid level\t: 13\n",
            "wp\t\t: yes\n",
            "flags\t\t: fpu vme de pse tsc msr pae mce cx8 apic sep mtrr pge mca cmov pat pse36 clflush mmx fxsr sse sse2 ss ht syscall nx pdpe1gb rdtscp lm constant_tsc rep_good nopl xtopology nonstop_tsc cpuid tsc_known_freq pni pclmulqdq ssse3 fma cx16 pcid sse4_1 sse4_2 x2apic movbe popcnt aes xsave avx f16c rdrand hypervisor lahf_lm abm 3dnowprefetch invpcid_single ssbd ibrs ibpb stibp fsgsbase tsc_adjust bmi1 hle avx2 smep bmi2 erms invpcid rtm rdseed adx smap xsaveopt arat md_clear arch_capabilities\n",
            "bugs\t\t: cpu_meltdown spectre_v1 spectre_v2 spec_store_bypass l1tf mds swapgs taa\n",
            "bogomips\t: 4399.99\n",
            "clflush size\t: 64\n",
            "cache_alignment\t: 64\n",
            "address sizes\t: 46 bits physical, 48 bits virtual\n",
            "power management:\n",
            "\n",
            "processor\t: 2\n",
            "vendor_id\t: GenuineIntel\n",
            "cpu family\t: 6\n",
            "model\t\t: 79\n",
            "model name\t: Intel(R) Xeon(R) CPU @ 2.20GHz\n",
            "stepping\t: 0\n",
            "microcode\t: 0x1\n",
            "cpu MHz\t\t: 2199.998\n",
            "cache size\t: 56320 KB\n",
            "physical id\t: 0\n",
            "siblings\t: 4\n",
            "core id\t\t: 0\n",
            "cpu cores\t: 2\n",
            "apicid\t\t: 1\n",
            "initial apicid\t: 1\n",
            "fpu\t\t: yes\n",
            "fpu_exception\t: yes\n",
            "cpuid level\t: 13\n",
            "wp\t\t: yes\n",
            "flags\t\t: fpu vme de pse tsc msr pae mce cx8 apic sep mtrr pge mca cmov pat pse36 clflush mmx fxsr sse sse2 ss ht syscall nx pdpe1gb rdtscp lm constant_tsc rep_good nopl xtopology nonstop_tsc cpuid tsc_known_freq pni pclmulqdq ssse3 fma cx16 pcid sse4_1 sse4_2 x2apic movbe popcnt aes xsave avx f16c rdrand hypervisor lahf_lm abm 3dnowprefetch invpcid_single ssbd ibrs ibpb stibp fsgsbase tsc_adjust bmi1 hle avx2 smep bmi2 erms invpcid rtm rdseed adx smap xsaveopt arat md_clear arch_capabilities\n",
            "bugs\t\t: cpu_meltdown spectre_v1 spectre_v2 spec_store_bypass l1tf mds swapgs taa\n",
            "bogomips\t: 4399.99\n",
            "clflush size\t: 64\n",
            "cache_alignment\t: 64\n",
            "address sizes\t: 46 bits physical, 48 bits virtual\n",
            "power management:\n",
            "\n",
            "processor\t: 3\n",
            "vendor_id\t: GenuineIntel\n",
            "cpu family\t: 6\n",
            "model\t\t: 79\n",
            "model name\t: Intel(R) Xeon(R) CPU @ 2.20GHz\n",
            "stepping\t: 0\n",
            "microcode\t: 0x1\n",
            "cpu MHz\t\t: 2199.998\n",
            "cache size\t: 56320 KB\n",
            "physical id\t: 0\n",
            "siblings\t: 4\n",
            "core id\t\t: 1\n",
            "cpu cores\t: 2\n",
            "apicid\t\t: 3\n",
            "initial apicid\t: 3\n",
            "fpu\t\t: yes\n",
            "fpu_exception\t: yes\n",
            "cpuid level\t: 13\n",
            "wp\t\t: yes\n",
            "flags\t\t: fpu vme de pse tsc msr pae mce cx8 apic sep mtrr pge mca cmov pat pse36 clflush mmx fxsr sse sse2 ss ht syscall nx pdpe1gb rdtscp lm constant_tsc rep_good nopl xtopology nonstop_tsc cpuid tsc_known_freq pni pclmulqdq ssse3 fma cx16 pcid sse4_1 sse4_2 x2apic movbe popcnt aes xsave avx f16c rdrand hypervisor lahf_lm abm 3dnowprefetch invpcid_single ssbd ibrs ibpb stibp fsgsbase tsc_adjust bmi1 hle avx2 smep bmi2 erms invpcid rtm rdseed adx smap xsaveopt arat md_clear arch_capabilities\n",
            "bugs\t\t: cpu_meltdown spectre_v1 spectre_v2 spec_store_bypass l1tf mds swapgs taa\n",
            "bogomips\t: 4399.99\n",
            "clflush size\t: 64\n",
            "cache_alignment\t: 64\n",
            "address sizes\t: 46 bits physical, 48 bits virtual\n",
            "power management:\n",
            "\n",
            "MemTotal:       26692024 kB\n",
            "MemFree:          281868 kB\n",
            "MemAvailable:    7822852 kB\n",
            "Buffers:           65956 kB\n",
            "Cached:          3650204 kB\n",
            "SwapCached:            0 kB\n",
            "Active:         21863000 kB\n",
            "Inactive:        3984276 kB\n",
            "Active(anon):   18047084 kB\n",
            "Inactive(anon):    12800 kB\n",
            "Active(file):    3815916 kB\n",
            "Inactive(file):  3971476 kB\n",
            "Unevictable:           0 kB\n",
            "Mlocked:               0 kB\n",
            "SwapTotal:             0 kB\n",
            "SwapFree:              0 kB\n",
            "Dirty:               732 kB\n",
            "Writeback:             0 kB\n",
            "AnonPages:      22131140 kB\n",
            "Mapped:          1491160 kB\n",
            "Shmem:             13516 kB\n",
            "KReclaimable:     153532 kB\n",
            "Slab:             238824 kB\n",
            "SReclaimable:     153532 kB\n",
            "SUnreclaim:        85292 kB\n",
            "KernelStack:        7264 kB\n",
            "PageTables:        77280 kB\n",
            "NFS_Unstable:          0 kB\n",
            "Bounce:                0 kB\n",
            "WritebackTmp:          0 kB\n",
            "CommitLimit:    13346012 kB\n",
            "Committed_AS:   26903804 kB\n",
            "VmallocTotal:   34359738367 kB\n",
            "VmallocUsed:       50140 kB\n",
            "VmallocChunk:          0 kB\n",
            "Percpu:             3008 kB\n",
            "AnonHugePages:   9654272 kB\n",
            "ShmemHugePages:        0 kB\n",
            "ShmemPmdMapped:        0 kB\n",
            "FileHugePages:         0 kB\n",
            "FilePmdMapped:         0 kB\n",
            "CmaTotal:              0 kB\n",
            "CmaFree:               0 kB\n",
            "HugePages_Total:       0\n",
            "HugePages_Free:        0\n",
            "HugePages_Rsvd:        0\n",
            "HugePages_Surp:        0\n",
            "Hugepagesize:       2048 kB\n",
            "Hugetlb:               0 kB\n",
            "DirectMap4k:      441152 kB\n",
            "DirectMap2M:    15284224 kB\n",
            "DirectMap1G:    13631488 kB\n"
          ]
        },
        {
          "output_type": "execute_result",
          "data": {
            "text/plain": [
              "[name: \"/device:CPU:0\"\n",
              " device_type: \"CPU\"\n",
              " memory_limit: 268435456\n",
              " locality {\n",
              " }\n",
              " incarnation: 8467891350589682677\n",
              " xla_global_id: -1, name: \"/device:GPU:0\"\n",
              " device_type: \"GPU\"\n",
              " memory_limit: 16154099712\n",
              " locality {\n",
              "   bus_id: 1\n",
              "   links {\n",
              "   }\n",
              " }\n",
              " incarnation: 17322349674500832609\n",
              " physical_device_desc: \"device: 0, name: Tesla P100-PCIE-16GB, pci bus id: 0000:00:04.0, compute capability: 6.0\"\n",
              " xla_global_id: 416903419]"
            ]
          },
          "metadata": {},
          "execution_count": 59
        }
      ]
    }
  ]
}