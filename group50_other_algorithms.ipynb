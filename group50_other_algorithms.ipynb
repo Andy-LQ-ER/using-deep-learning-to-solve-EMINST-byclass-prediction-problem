{
  "cells": [
    {
      "cell_type": "markdown",
      "source": [
        "bind colab with google cloud drive"
      ],
      "metadata": {
        "id": "Iu76XmmYkrxW"
      }
    },
    {
      "cell_type": "code",
      "execution_count": 1,
      "metadata": {
        "colab": {
          "base_uri": "https://localhost:8080/"
        },
        "id": "y20f7bXjdfbp",
        "outputId": "13ed78d0-8ef3-4282-ac9b-f1aa0721cb81"
      },
      "outputs": [
        {
          "output_type": "stream",
          "name": "stdout",
          "text": [
            "Mounted at /content/gdrive\n"
          ]
        }
      ],
      "source": [
        "from google.colab import drive\n",
        "drive.mount('/content/gdrive')"
      ]
    },
    {
      "cell_type": "markdown",
      "metadata": {
        "id": "BY8yqlj8dkCx"
      },
      "source": [
        "import necessary functions and packages"
      ]
    },
    {
      "cell_type": "code",
      "execution_count": 2,
      "metadata": {
        "id": "qI56eLYHdmPi"
      },
      "outputs": [],
      "source": [
        "import numpy as np\n",
        "import csv\n",
        "import pandas as pd\n",
        "from sklearn.model_selection import train_test_split\n",
        "import os\n",
        "from sklearn import model_selection\n",
        "from sklearn import tree\n",
        "from sklearn import metrics\n",
        "from sklearn.preprocessing import StandardScaler\n",
        "from sklearn.preprocessing import normalize\n",
        "from sklearn.decomposition import PCA\n",
        "import matplotlib.pyplot as plt\n",
        "from sklearn.neighbors import KNeighborsClassifier\n",
        "from sklearn.model_selection import GridSearchCV\n",
        "from sklearn.metrics import accuracy_score\n",
        "from sklearn.metrics import classification_report\n",
        "from sklearn.ensemble import RandomForestClassifier\n",
        "from sklearn.svm import SVC\n"
      ]
    },
    {
      "cell_type": "markdown",
      "source": [
        "print file names in gdrive"
      ],
      "metadata": {
        "id": "7NFnTVDDm_Ce"
      }
    },
    {
      "cell_type": "code",
      "execution_count": 3,
      "metadata": {
        "colab": {
          "base_uri": "https://localhost:8080/"
        },
        "id": "r_6M5gphdpe6",
        "outputId": "9377ed70-6a88-4f29-90f6-806f52a03c2e"
      },
      "outputs": [
        {
          "output_type": "stream",
          "name": "stdout",
          "text": [
            "['emnist-byclass-train.csv', 'emnist-byclass-test.csv']\n"
          ]
        }
      ],
      "source": [
        "file_path=\"/content/gdrive/My Drive/datasets\"\n",
        "file_names=os.listdir(file_path)\n",
        "print(file_names)\n"
      ]
    },
    {
      "cell_type": "markdown",
      "source": [
        "import the train and test dataset"
      ],
      "metadata": {
        "id": "qm6x2T19nPqV"
      }
    },
    {
      "cell_type": "code",
      "execution_count": 4,
      "metadata": {
        "id": "k7q9QAO7dreC"
      },
      "outputs": [],
      "source": [
        "train_pd = pd.read_csv('/content/gdrive/My Drive/datasets/emnist-byclass-train.csv',delimiter=\",\", nrows=308016,header=None)\n",
        "test_pd = pd.read_csv('/content/gdrive/My Drive/datasets/emnist-byclass-test.csv',delimiter=\",\", nrows=70000, header=None)"
      ]
    },
    {
      "cell_type": "markdown",
      "source": [
        "show the numbers of each label "
      ],
      "metadata": {
        "id": "fAuMcsTenYYt"
      }
    },
    {
      "cell_type": "code",
      "execution_count": 5,
      "metadata": {
        "colab": {
          "base_uri": "https://localhost:8080/",
          "height": 624
        },
        "id": "fQBRVrJdg4Xo",
        "outputId": "71529599-fae5-4e46-de2c-8f9098c76f69"
      },
      "outputs": [
        {
          "output_type": "execute_result",
          "data": {
            "text/plain": [
              "Text(0, 0.5, 'Label')"
            ]
          },
          "metadata": {},
          "execution_count": 5
        },
        {
          "output_type": "display_data",
          "data": {
            "text/plain": [
              "<Figure size 720x720 with 1 Axes>"
            ],
            "image/png": "[encoded data removed]"
          },
          "metadata": {
            "needs_background": "light"
          }
        }
      ],
      "source": [
        "train_pd.iloc[:,0].value_counts().plot(kind='barh',figsize=(10,10))\n",
        "plt.xlabel('Number')\n",
        "plt.ylabel('Label')"
      ]
    },
    {
      "cell_type": "markdown",
      "source": [
        "select features and labels from train and test dataset "
      ],
      "metadata": {
        "id": "OTzCNNlSoGKV"
      }
    },
    {
      "cell_type": "code",
      "execution_count": 6,
      "metadata": {
        "id": "O18xARhMds9E"
      },
      "outputs": [],
      "source": [
        "data_train_feature = train_pd.loc[:, \"1\":\"784\"].to_numpy()\n",
        "data_train_label = train_pd.iloc[:, 0].to_numpy()\n",
        "data_test_feature = test_pd.loc[:, \"1\":\"784\"].to_numpy()\n",
        "data_test_label = test_pd.iloc[:, 0].to_numpy()"
      ]
    },
    {
      "cell_type": "markdown",
      "source": [
        "show the shape of each dataset"
      ],
      "metadata": {
        "id": "h6gt3zUloix-"
      }
    },
    {
      "cell_type": "code",
      "execution_count": 7,
      "metadata": {
        "colab": {
          "base_uri": "https://localhost:8080/"
        },
        "id": "QcjhZHDBfvam",
        "outputId": "e91af92a-5fb4-4637-cb44-ca7e593b92c7"
      },
      "outputs": [
        {
          "output_type": "stream",
          "name": "stdout",
          "text": [
            "(308016, 784) (308016,) (70000, 784) (70000,)\n"
          ]
        }
      ],
      "source": [
        "print(data_train_feature.shape,\n",
        "data_train_label.shape,\n",
        "data_test_feature.shape,\n",
        "data_test_label.shape)"
      ]
    },
    {
      "cell_type": "markdown",
      "source": [
        "normalisation and standardisation for the feature in train and test dataset"
      ],
      "metadata": {
        "id": "hFkEW0Xbo0EB"
      }
    },
    {
      "cell_type": "code",
      "execution_count": 8,
      "metadata": {
        "colab": {
          "base_uri": "https://localhost:8080/"
        },
        "id": "B4v7n09nlfua",
        "outputId": "590c0fb4-9e14-4a3c-f025-e96316e33e60"
      },
      "outputs": [
        {
          "output_type": "stream",
          "name": "stdout",
          "text": [
            "CPU times: user 6.41 s, sys: 893 ms, total: 7.3 s\n",
            "Wall time: 7.25 s\n"
          ]
        }
      ],
      "source": [
        "%%time\n",
        "data_train_standerd_1= StandardScaler().fit_transform(data_train_feature)\n",
        "train_normal_1 = normalize(data_train_standerd_1)\n",
        "\n",
        "data_test_standerd_1= StandardScaler().fit_transform(data_test_feature)\n",
        "test_normal_1 = normalize(data_test_standerd_1)"
      ]
    },
    {
      "cell_type": "markdown",
      "metadata": {
        "id": "GHH-MrWEhjBN"
      },
      "source": [
        "principle component analysis"
      ]
    },
    {
      "cell_type": "code",
      "execution_count": 9,
      "metadata": {
        "colab": {
          "base_uri": "https://localhost:8080/",
          "height": 392
        },
        "id": "tvUvAafWlfxR",
        "outputId": "d090ef50-ed46-4e7e-bea5-9ad94976e5c6"
      },
      "outputs": [
        {
          "output_type": "display_data",
          "data": {
            "text/plain": [
              "<Figure size 720x432 with 1 Axes>"
            ],
            "image/png": "[encoded data removed]"
          },
          "metadata": {
            "needs_background": "light"
          }
        }
      ],
      "source": [
        "pca = PCA()\n",
        "pca.fit(train_normal_1)\n",
        "cumsum = np.cumsum(pca.explained_variance_ratio_)\n",
        "\n",
        "plt.figure(figsize=(10,6))\n",
        "plt.plot(cumsum, linewidth = 3)\n",
        "plt.axis([0, 784, 0.6, 1])\n",
        "plt.xlabel(\"dimensions\")\n",
        "plt.ylabel(\"explained variance\")\n",
        "plt.grid(True)\n",
        "plt.show()"
      ]
    },
    {
      "cell_type": "markdown",
      "source": [
        "choose minimal 90% of the principal components"
      ],
      "metadata": {
        "id": "rstYYkmt8jF_"
      }
    },
    {
      "cell_type": "code",
      "execution_count": 10,
      "metadata": {
        "id": "-t0RaU8Flfzn"
      },
      "outputs": [],
      "source": [
        "pca = PCA(n_components=100)\n",
        "train_normal_11 = pca.fit_transform(train_normal_1)\n",
        "test_normal_11 = pca.fit_transform(test_normal_1)"
      ]
    },
    {
      "cell_type": "markdown",
      "metadata": {
        "id": "8QbR78PziI5I"
      },
      "source": [
        "hyperparameter turning for SVM"
      ]
    },
    {
      "cell_type": "markdown",
      "source": [
        "As there are too much data in our dataset, it is hard to turn the hyperparameter for one time. The first block below shows the results of (C=1, gamma=1), (C=1, gamma=3) and (C=3, gamma=1). The second block below shows the results of C=3, gamma=3. We think there is no influence for us to get the best hyperparameter. Based on the scores in the grid search, we can get the conclusion that C=3 and gamma=1 are the best hyperparameter for SVM model."
      ],
      "metadata": {
        "id": "nwg3aVJdAL25"
      }
    },
    {
      "cell_type": "code",
      "execution_count": null,
      "metadata": {
        "colab": {
          "base_uri": "https://localhost:8080/"
        },
        "id": "EdZ0G5sKJpOK",
        "outputId": "f0de2bd7-af0d-40d1-b3f1-9d7bf7674e0e"
      },
      "outputs": [
        {
          "output_type": "stream",
          "name": "stdout",
          "text": [
            "Fitting 2 folds for each of 4 candidates, totalling 8 fits\n",
            "[CV 1/2] END ......................C=1, gamma=1;, score=0.827 total time=65.1min\n",
            "[CV 2/2] END ......................C=1, gamma=1;, score=0.828 total time=65.1min\n",
            "[CV 1/2] END ......................C=1, gamma=3;, score=0.829 total time=98.6min\n",
            "[CV 2/2] END ......................C=1, gamma=3;, score=0.830 total time=97.9min\n",
            "[CV 1/2] END ......................C=3, gamma=1;, score=0.836 total time=61.1min\n",
            "[CV 2/2] END ......................C=3, gamma=1;, score=0.837 total time=62.2min\n"
          ]
        }
      ],
      "source": [
        "%%time\n",
        "\n",
        "param_grid={'C': [1,3],'gamma' : [1,3]}\n",
        "grid_search = GridSearchCV(SVC(), param_grid, cv=2, verbose=3)\n",
        "grid_search.fit(train_normal_11, data_train_label)\n",
        "\n",
        "\n",
        "print(\"Best parameters: {}\".format(grid_search.best_params_))\n",
        "print(\"Best cross-validation score: {:.4f}\".format(grid_search.best_score_))\n",
        "print(\"Best estimator:\\n{}\".format(grid_search.best_estimator_))"
      ]
    },
    {
      "cell_type": "code",
      "source": [
        "%%time\n",
        "\n",
        "param_grid={'C': [3],'gamma' : [3]}\n",
        "grid_search = GridSearchCV(SVC(), param_grid, cv=2, verbose=3)\n",
        "grid_search.fit(train_normal_11, data_train_label)\n",
        "\n",
        "\n",
        "print(\"Best parameters: {}\".format(grid_search.best_params_))\n",
        "print(\"Best cross-validation score: {:.4f}\".format(grid_search.best_score_))\n",
        "print(\"Best estimator:\\n{}\".format(grid_search.best_estimator_))"
      ],
      "metadata": {
        "colab": {
          "base_uri": "https://localhost:8080/"
        },
        "id": "7jBc4VOiqVk7",
        "outputId": "3f7e46b7-e410-4972-a970-abdf234b3642"
      },
      "execution_count": 12,
      "outputs": [
        {
          "output_type": "stream",
          "name": "stdout",
          "text": [
            "Fitting 2 folds for each of 1 candidates, totalling 2 fits\n",
            "[CV 1/2] END ......................C=3, gamma=3;, score=0.828 total time=89.3min\n",
            "[CV 2/2] END ......................C=3, gamma=3;, score=0.830 total time=87.6min\n",
            "Best parameters: {'C': 3, 'gamma': 3}\n",
            "Best cross-validation score: 0.8293\n",
            "Best estimator:\n",
            "SVC(C=3, gamma=3)\n",
            "CPU times: user 4h 32min 29s, sys: 29 s, total: 4h 32min 58s\n",
            "Wall time: 4h 31min 49s\n"
          ]
        }
      ]
    },
    {
      "cell_type": "markdown",
      "metadata": {
        "id": "JWWZs-WSiQXR"
      },
      "source": [
        "Hyperparameter turning for random forest"
      ]
    },
    {
      "cell_type": "code",
      "execution_count": null,
      "metadata": {
        "id": "8GLyyzJ9uLdp",
        "colab": {
          "base_uri": "https://localhost:8080/"
        },
        "outputId": "499b32fa-64b4-45a7-fc33-07b58fdc0549"
      },
      "outputs": [
        {
          "output_type": "stream",
          "name": "stdout",
          "text": [
            "Fitting 2 folds for each of 3 candidates, totalling 6 fits\n",
            "[CV 1/2] END ..................n_estimators=100;, score=0.749 total time= 1.3min\n",
            "[CV 2/2] END ..................n_estimators=100;, score=0.750 total time= 1.3min\n",
            "[CV 1/2] END ..................n_estimators=200;, score=0.755 total time= 2.6min\n",
            "[CV 2/2] END ..................n_estimators=200;, score=0.755 total time= 2.6min\n",
            "[CV 1/2] END ..................n_estimators=300;, score=0.757 total time= 3.8min\n",
            "[CV 2/2] END ..................n_estimators=300;, score=0.758 total time= 3.8min\n",
            "Best parameters: {'n_estimators': 300}\n",
            "Best cross-validation score: 0.7573\n",
            "Best estimator:\n",
            "RandomForestClassifier(n_estimators=300, n_jobs=-1)\n",
            "CPU times: user 1h 9min 51s, sys: 47.1 s, total: 1h 10min 38s\n",
            "Wall time: 23min 41s\n"
          ]
        }
      ],
      "source": [
        "%%time\n",
        "\n",
        "param_grid={'n_estimators': [100, 200, 300]}\n",
        "grid_search = GridSearchCV(RandomForestClassifier(n_jobs =-1), param_grid, cv=2, verbose=3)\n",
        "grid_search.fit(train_normal_11, data_train_label)\n",
        "\n",
        "\n",
        "print(\"Best parameters: {}\".format(grid_search.best_params_))\n",
        "print(\"Best cross-validation score: {:.4f}\".format(grid_search.best_score_))\n",
        "print(\"Best estimator:\\n{}\".format(grid_search.best_estimator_))"
      ]
    },
    {
      "cell_type": "markdown",
      "metadata": {
        "id": "Iq-cSp9RhuNs"
      },
      "source": [
        "the best model of support vector machine"
      ]
    },
    {
      "cell_type": "code",
      "execution_count": 11,
      "metadata": {
        "colab": {
          "base_uri": "https://localhost:8080/"
        },
        "id": "ArS0xCvUlf4U",
        "outputId": "90a3c8b1-520a-4526-f2b7-1b3c2eb0d83e"
      },
      "outputs": [
        {
          "output_type": "stream",
          "name": "stdout",
          "text": [
            "[LibSVM]Accuracy on test set y: 0.37684\n",
            "              precision    recall  f1-score   support\n",
            "\n",
            "           0       0.51      0.61      0.56      3461\n",
            "           1       0.55      0.46      0.50      3860\n",
            "           2       0.17      0.25      0.20      3559\n",
            "           3       0.48      0.68      0.56      3577\n",
            "           4       0.30      0.35      0.32      3411\n",
            "           5       0.23      0.23      0.23      3115\n",
            "           6       0.74      0.77      0.75      3426\n",
            "           7       0.66      0.63      0.64      3768\n",
            "           8       0.39      0.56      0.46      3375\n",
            "           9       0.51      0.43      0.47      3390\n",
            "          10       0.26      0.44      0.33       647\n",
            "          11       0.19      0.17      0.18       395\n",
            "          12       0.30      0.28      0.29      1080\n",
            "          13       0.25      0.20      0.22       446\n",
            "          14       0.08      0.11      0.09       521\n",
            "          15       0.10      0.18      0.13       874\n",
            "          16       0.34      0.44      0.38       254\n",
            "          17       0.33      0.21      0.26       331\n",
            "          18       0.32      0.09      0.14      1237\n",
            "          19       0.20      0.25      0.22       391\n",
            "          20       0.03      0.03      0.03       232\n",
            "          21       0.07      0.03      0.04       476\n",
            "          22       0.59      0.75      0.66       872\n",
            "          23       0.19      0.26      0.22       804\n",
            "          24       0.50      0.35      0.41      2470\n",
            "          25       0.33      0.14      0.20       828\n",
            "          26       0.19      0.32      0.24       257\n",
            "          27       0.14      0.31      0.20       493\n",
            "          28       0.42      0.37      0.40      2099\n",
            "          29       0.37      0.26      0.31       965\n",
            "          30       0.20      0.12      0.15      1209\n",
            "          31       0.30      0.29      0.30       489\n",
            "          32       0.34      0.28      0.31       467\n",
            "          33       0.12      0.14      0.13       266\n",
            "          34       0.18      0.16      0.17       462\n",
            "          35       0.01      0.01      0.01       274\n",
            "          36       0.15      0.27      0.19       955\n",
            "          37       0.29      0.32      0.31       505\n",
            "          38       0.20      0.00      0.01       243\n",
            "          39       0.12      0.09      0.10      1036\n",
            "          40       0.56      0.48      0.52      2462\n",
            "          41       0.12      0.03      0.05       259\n",
            "          42       0.08      0.16      0.11       375\n",
            "          43       0.56      0.34      0.42       900\n",
            "          44       0.53      0.12      0.20       263\n",
            "          45       0.07      0.02      0.03       188\n",
            "          46       0.30      0.20      0.24       283\n",
            "          47       0.24      0.02      0.03      1533\n",
            "          48       0.50      0.01      0.02       269\n",
            "          49       0.38      0.69      0.49      1116\n",
            "          50       0.00      0.00      0.00       283\n",
            "          51       0.38      0.08      0.14       224\n",
            "          52       0.10      0.11      0.11       295\n",
            "          53       0.16      0.09      0.11      1352\n",
            "          54       0.00      0.00      0.00       272\n",
            "          55       0.41      0.36      0.39      1773\n",
            "          56       0.08      0.00      0.01       274\n",
            "          57       0.18      0.13      0.15       302\n",
            "          58       0.34      0.05      0.08       283\n",
            "          59       0.13      0.15      0.14       279\n",
            "          60       0.06      0.04      0.05       231\n",
            "          61       0.06      0.02      0.02       264\n",
            "\n",
            "    accuracy                           0.38     70000\n",
            "   macro avg       0.27      0.24      0.24     70000\n",
            "weighted avg       0.38      0.38      0.37     70000\n",
            "\n",
            "CPU times: user 1h 18min 53s, sys: 8.07 s, total: 1h 19min 1s\n",
            "Wall time: 1h 18min 37s\n"
          ]
        },
        {
          "output_type": "stream",
          "name": "stderr",
          "text": [
            "/usr/local/lib/python3.7/dist-packages/sklearn/metrics/_classification.py:1318: UndefinedMetricWarning: Precision and F-score are ill-defined and being set to 0.0 in labels with no predicted samples. Use `zero_division` parameter to control this behavior.\n",
            "  _warn_prf(average, modifier, msg_start, len(result))\n",
            "/usr/local/lib/python3.7/dist-packages/sklearn/metrics/_classification.py:1318: UndefinedMetricWarning: Precision and F-score are ill-defined and being set to 0.0 in labels with no predicted samples. Use `zero_division` parameter to control this behavior.\n",
            "  _warn_prf(average, modifier, msg_start, len(result))\n",
            "/usr/local/lib/python3.7/dist-packages/sklearn/metrics/_classification.py:1318: UndefinedMetricWarning: Precision and F-score are ill-defined and being set to 0.0 in labels with no predicted samples. Use `zero_division` parameter to control this behavior.\n",
            "  _warn_prf(average, modifier, msg_start, len(result))\n"
          ]
        }
      ],
      "source": [
        "%%time\n",
        "\n",
        "svc_classifier = SVC(C=3, gamma=1, verbose=3)\n",
        "svc_classifier.fit(train_normal_11 , data_train_label)\n",
        "y_pred_svc = svc_classifier.predict(test_normal_11)\n",
        "print(\"Accuracy on test set y: {:.5f}\".format(accuracy_score(data_test_label, y_pred_svc)))\n",
        "accuracy_SVM = accuracy_score(data_test_label, y_pred_svc)\n",
        "print(classification_report(data_test_label, y_pred_svc))"
      ]
    },
    {
      "cell_type": "markdown",
      "metadata": {
        "id": "w0G9RXPHiTfB"
      },
      "source": [
        "the best model of random forest"
      ]
    },
    {
      "cell_type": "code",
      "execution_count": 11,
      "metadata": {
        "id": "pIppnDyBohzf",
        "colab": {
          "base_uri": "https://localhost:8080/"
        },
        "outputId": "1e1eb067-3036-4244-9662-7a5cb0f3b69a"
      },
      "outputs": [
        {
          "output_type": "stream",
          "name": "stdout",
          "text": [
            "Random forest ensemble - accuracy on test set:\n",
            "0.4611857142857143\n",
            "              precision    recall  f1-score   support\n",
            "\n",
            "           0       0.53      0.75      0.62      3461\n",
            "           1       0.63      0.83      0.72      3860\n",
            "           2       0.21      0.42      0.28      3559\n",
            "           3       0.37      0.66      0.48      3577\n",
            "           4       0.40      0.71      0.51      3411\n",
            "           5       0.21      0.26      0.23      3115\n",
            "           6       0.62      0.92      0.74      3426\n",
            "           7       0.62      0.83      0.71      3768\n",
            "           8       0.33      0.48      0.39      3375\n",
            "           9       0.63      0.55      0.59      3390\n",
            "          10       0.44      0.34      0.38       647\n",
            "          11       0.50      0.00      0.01       395\n",
            "          12       0.43      0.20      0.27      1080\n",
            "          13       0.73      0.07      0.12       446\n",
            "          14       0.39      0.02      0.04       521\n",
            "          15       0.34      0.10      0.15       874\n",
            "          16       0.89      0.10      0.18       254\n",
            "          17       0.67      0.04      0.08       331\n",
            "          18       0.56      0.21      0.31      1237\n",
            "          19       0.67      0.07      0.13       391\n",
            "          20       0.64      0.11      0.18       232\n",
            "          21       0.60      0.05      0.09       476\n",
            "          22       0.61      0.81      0.69       872\n",
            "          23       0.37      0.28      0.32       804\n",
            "          24       0.47      0.33      0.39      2470\n",
            "          25       0.50      0.07      0.12       828\n",
            "          26       0.96      0.09      0.17       257\n",
            "          27       0.43      0.11      0.17       493\n",
            "          28       0.57      0.42      0.49      2099\n",
            "          29       0.51      0.37      0.43       965\n",
            "          30       0.35      0.16      0.22      1209\n",
            "          31       0.51      0.15      0.23       489\n",
            "          32       0.52      0.46      0.49       467\n",
            "          33       0.44      0.09      0.15       266\n",
            "          34       0.51      0.08      0.13       462\n",
            "          35       0.00      0.00      0.00       274\n",
            "          36       0.61      0.30      0.40       955\n",
            "          37       0.67      0.15      0.25       505\n",
            "          38       0.00      0.00      0.00       243\n",
            "          39       0.18      0.07      0.10      1036\n",
            "          40       0.61      0.68      0.64      2462\n",
            "          41       0.00      0.00      0.00       259\n",
            "          42       0.00      0.00      0.00       375\n",
            "          43       0.68      0.51      0.59       900\n",
            "          44       0.88      0.09      0.16       263\n",
            "          45       0.78      0.04      0.07       188\n",
            "          46       0.50      0.02      0.05       283\n",
            "          47       0.39      0.05      0.09      1533\n",
            "          48       0.00      0.00      0.00       269\n",
            "          49       0.53      0.77      0.63      1116\n",
            "          50       0.00      0.00      0.00       283\n",
            "          51       1.00      0.00      0.01       224\n",
            "          52       0.00      0.00      0.00       295\n",
            "          53       0.31      0.25      0.28      1352\n",
            "          54       0.00      0.00      0.00       272\n",
            "          55       0.57      0.60      0.59      1773\n",
            "          56       0.00      0.00      0.00       274\n",
            "          57       0.59      0.05      0.10       302\n",
            "          58       0.68      0.13      0.22       283\n",
            "          59       0.35      0.04      0.07       279\n",
            "          60       0.00      0.00      0.00       231\n",
            "          61       0.89      0.03      0.06       264\n",
            "\n",
            "    accuracy                           0.46     70000\n",
            "   macro avg       0.46      0.24      0.25     70000\n",
            "weighted avg       0.47      0.46      0.42     70000\n",
            "\n",
            "CPU times: user 1h 5min 21s, sys: 20.9 s, total: 1h 5min 42s\n",
            "Wall time: 8min 21s\n"
          ]
        },
        {
          "output_type": "stream",
          "name": "stderr",
          "text": [
            "/usr/local/lib/python3.7/dist-packages/sklearn/metrics/_classification.py:1318: UndefinedMetricWarning: Precision and F-score are ill-defined and being set to 0.0 in labels with no predicted samples. Use `zero_division` parameter to control this behavior.\n",
            "  _warn_prf(average, modifier, msg_start, len(result))\n",
            "/usr/local/lib/python3.7/dist-packages/sklearn/metrics/_classification.py:1318: UndefinedMetricWarning: Precision and F-score are ill-defined and being set to 0.0 in labels with no predicted samples. Use `zero_division` parameter to control this behavior.\n",
            "  _warn_prf(average, modifier, msg_start, len(result))\n",
            "/usr/local/lib/python3.7/dist-packages/sklearn/metrics/_classification.py:1318: UndefinedMetricWarning: Precision and F-score are ill-defined and being set to 0.0 in labels with no predicted samples. Use `zero_division` parameter to control this behavior.\n",
            "  _warn_prf(average, modifier, msg_start, len(result))\n"
          ]
        }
      ],
      "source": [
        "%%time\n",
        "\n",
        "ran_for = RandomForestClassifier(n_estimators=300, n_jobs=-1)\n",
        "ran_for.fit(train_normal_11 , data_train_label)\n",
        "y_pred_rf = ran_for.predict(test_normal_11)\n",
        "print(\"Random forest ensemble - accuracy on test set:\")\n",
        "print(accuracy_score(data_test_label, y_pred_rf))\n",
        "accuracy_forest = accuracy_score(data_test_label, y_pred_rf)\n",
        "print(classification_report(data_test_label, y_pred_rf))"
      ]
    }
  ],
  "metadata": {
    "accelerator": "GPU",
    "colab": {
      "background_execution": "on",
      "collapsed_sections": [],
      "machine_shape": "hm",
      "name": "5318_ass2_2.ipynb",
      "provenance": []
    },
    "kernelspec": {
      "display_name": "Python 3",
      "name": "python3"
    },
    "language_info": {
      "name": "python"
    }
  },
  "nbformat": 4,
  "nbformat_minor": 0
}